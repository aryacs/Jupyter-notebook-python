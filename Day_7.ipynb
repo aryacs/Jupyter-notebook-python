{
 "cells": [
  {
   "cell_type": "code",
   "execution_count": 1,
   "id": "815b8d1b-5f6f-4fee-82b7-f0b79991a5c3",
   "metadata": {},
   "outputs": [
    {
     "name": "stdout",
     "output_type": "stream",
     "text": [
      "Hello\n"
     ]
    }
   ],
   "source": [
    "print(\"Hello\")"
   ]
  },
  {
   "cell_type": "code",
   "execution_count": 4,
   "id": "42638c44-34b1-42b8-9010-169f7745d0c2",
   "metadata": {},
   "outputs": [
    {
     "name": "stdin",
     "output_type": "stream",
     "text": [
      "Enter the number of elements:  5\n",
      "Enter the elements:  24\n",
      "Enter the elements:  87\n",
      "Enter the elements:  36\n",
      "Enter the elements:  29\n",
      "Enter the elements:  94\n"
     ]
    },
    {
     "name": "stdout",
     "output_type": "stream",
     "text": [
      "[24 87 36 29 94]\n",
      "1\n"
     ]
    }
   ],
   "source": [
    "import numpy as np\n",
    "n = int(input(\"Enter the number of elements: \"))\n",
    "list = []\n",
    "for i in range(n):\n",
    "    num = int(input(\"Enter the elements: \"))\n",
    "    list.append(num)\n",
    "arr = np.array(list)\n",
    "print(arr)\n",
    "print(arr.ndim)"
   ]
  },
  {
   "cell_type": "code",
   "execution_count": null,
   "id": "3f29e5f1-fdbc-4fe1-93ad-4c9c0e75e05b",
   "metadata": {},
   "outputs": [],
   "source": []
  }
 ],
 "metadata": {
  "kernelspec": {
   "display_name": "Python 3 (ipykernel)",
   "language": "python",
   "name": "python3"
  },
  "language_info": {
   "codemirror_mode": {
    "name": "ipython",
    "version": 3
   },
   "file_extension": ".py",
   "mimetype": "text/x-python",
   "name": "python",
   "nbconvert_exporter": "python",
   "pygments_lexer": "ipython3",
   "version": "3.13.0"
  }
 },
 "nbformat": 4,
 "nbformat_minor": 5
}
